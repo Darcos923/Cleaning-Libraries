{
 "cells": [
  {
   "cell_type": "markdown",
   "source": [
    "## Uncommon libraries for preprocessing text\n",
    "---"
   ],
   "metadata": {
    "collapsed": false
   }
  },
  {
   "cell_type": "code",
   "execution_count": 1,
   "outputs": [
    {
     "name": "stdout",
     "output_type": "stream",
     "text": [
      "INFO: Pandarallel will run on 2 workers.\n",
      "INFO: Pandarallel will use standard multiprocessing data transfer (pipe) to transfer data between the main process and workers.\n"
     ]
    }
   ],
   "source": [
    "#pip install pandarallel\n",
    "\n",
    "import pandas as pd\n",
    "from pandarallel import pandarallel\n",
    "pandarallel.initialize()"
   ],
   "metadata": {
    "collapsed": false
   }
  },
  {
   "cell_type": "code",
   "execution_count": 10,
   "outputs": [
    {
     "data": {
      "text/plain": "                                              Review  Rating\n0  nice hotel expensive parking got good deal sta...       4\n1  ok nothing special charge diamond member hilto...       2\n2  nice rooms not 4* experience hotel monaco seat...       3\n3  unique, great stay, wonderful time hotel monac...       5\n4  great stay great stay, went seahawk game aweso...       5\n5  love monaco staff husband stayed hotel crazy w...       5\n6  cozy stay rainy city, husband spent 7 nights m...       5\n7  excellent staff, housekeeping quality hotel ch...       4\n8  hotel stayed hotel monaco cruise, rooms genero...       5\n9  excellent stayed hotel monaco past w/e delight...       5",
      "text/html": "<div>\n<style scoped>\n    .dataframe tbody tr th:only-of-type {\n        vertical-align: middle;\n    }\n\n    .dataframe tbody tr th {\n        vertical-align: top;\n    }\n\n    .dataframe thead th {\n        text-align: right;\n    }\n</style>\n<table border=\"1\" class=\"dataframe\">\n  <thead>\n    <tr style=\"text-align: right;\">\n      <th></th>\n      <th>Review</th>\n      <th>Rating</th>\n    </tr>\n  </thead>\n  <tbody>\n    <tr>\n      <th>0</th>\n      <td>nice hotel expensive parking got good deal sta...</td>\n      <td>4</td>\n    </tr>\n    <tr>\n      <th>1</th>\n      <td>ok nothing special charge diamond member hilto...</td>\n      <td>2</td>\n    </tr>\n    <tr>\n      <th>2</th>\n      <td>nice rooms not 4* experience hotel monaco seat...</td>\n      <td>3</td>\n    </tr>\n    <tr>\n      <th>3</th>\n      <td>unique, great stay, wonderful time hotel monac...</td>\n      <td>5</td>\n    </tr>\n    <tr>\n      <th>4</th>\n      <td>great stay great stay, went seahawk game aweso...</td>\n      <td>5</td>\n    </tr>\n    <tr>\n      <th>5</th>\n      <td>love monaco staff husband stayed hotel crazy w...</td>\n      <td>5</td>\n    </tr>\n    <tr>\n      <th>6</th>\n      <td>cozy stay rainy city, husband spent 7 nights m...</td>\n      <td>5</td>\n    </tr>\n    <tr>\n      <th>7</th>\n      <td>excellent staff, housekeeping quality hotel ch...</td>\n      <td>4</td>\n    </tr>\n    <tr>\n      <th>8</th>\n      <td>hotel stayed hotel monaco cruise, rooms genero...</td>\n      <td>5</td>\n    </tr>\n    <tr>\n      <th>9</th>\n      <td>excellent stayed hotel monaco past w/e delight...</td>\n      <td>5</td>\n    </tr>\n  </tbody>\n</table>\n</div>"
     },
     "execution_count": 10,
     "metadata": {},
     "output_type": "execute_result"
    }
   ],
   "source": [
    "df=pd.read_csv('tripadvisor_hotel_reviews.csv')\n",
    "df_reduced=df.head(10)\n",
    "df_reduced"
   ],
   "metadata": {
    "collapsed": false
   }
  },
  {
   "cell_type": "markdown",
   "source": [
    "##### Clean text\n",
    "---"
   ],
   "metadata": {
    "collapsed": false
   }
  },
  {
   "cell_type": "code",
   "execution_count": 3,
   "outputs": [
    {
     "name": "stderr",
     "output_type": "stream",
     "text": [
      "/var/folders/cv/8ffbkz4x6fb9b6b1t27jgrtr0000gn/T/ipykernel_17982/2291789019.py:10: SettingWithCopyWarning: \n",
      "A value is trying to be set on a copy of a slice from a DataFrame.\n",
      "Try using .loc[row_indexer,col_indexer] = value instead\n",
      "\n",
      "See the caveats in the documentation: https://pandas.pydata.org/pandas-docs/stable/user_guide/indexing.html#returning-a-view-versus-a-copy\n",
      "  df_reduced['cleaner_ct']=df_reduced['Review'].parallel_apply(cleaner_ct)\n"
     ]
    }
   ],
   "source": [
    "# pip install clean-text\n",
    "# More information about it here: https://pypi.org/project/clean-text/\n",
    "\n",
    "from cleantext import clean\n",
    "\n",
    "def cleaner_ct (text):\n",
    "    nlp_preprocessing=clean(text, normalize_whitespace=True,replace_with_punct=' ',no_punct=True,no_currency_symbols=True,no_line_breaks=True)\n",
    "    return nlp_preprocessing\n",
    "\n",
    "df_reduced['cleaner_ct']=df_reduced['Review'].parallel_apply(cleaner_ct)"
   ],
   "metadata": {
    "collapsed": false
   }
  },
  {
   "cell_type": "markdown",
   "source": [
    "##### Text Hammer\n",
    "---"
   ],
   "metadata": {
    "collapsed": false
   }
  },
  {
   "cell_type": "code",
   "execution_count": 4,
   "outputs": [
    {
     "name": "stderr",
     "output_type": "stream",
     "text": [
      "2022-11-01 14:55:59.684916: I tensorflow/core/platform/cpu_feature_guard.cc:193] This TensorFlow binary is optimized with oneAPI Deep Neural Network Library (oneDNN) to use the following CPU instructions in performance-critical operations:  AVX2 FMA\n",
      "To enable them in other operations, rebuild TensorFlow with the appropriate compiler flags.\n",
      "/Library/Frameworks/Python.framework/Versions/3.10/lib/python3.10/site-packages/spacy/language.py:1895: UserWarning: [W123] Argument disable with value [] is used instead of ['senter'] as specified in the config. Be aware that this might affect other components in your pipeline.\n",
      "  warnings.warn(\n",
      "/var/folders/cv/8ffbkz4x6fb9b6b1t27jgrtr0000gn/T/ipykernel_17982/3899291167.py:17: SettingWithCopyWarning: \n",
      "A value is trying to be set on a copy of a slice from a DataFrame.\n",
      "Try using .loc[row_indexer,col_indexer] = value instead\n",
      "\n",
      "See the caveats in the documentation: https://pandas.pydata.org/pandas-docs/stable/user_guide/indexing.html#returning-a-view-versus-a-copy\n",
      "  df_reduced['cleaner_th']=df_reduced['Review'].parallel_apply(get_clean_th)\n"
     ]
    }
   ],
   "source": [
    "# pip install text-hammer\n",
    "# More information about it here: https://pypi.org/project/text-hammer/\n",
    "\n",
    "import text_hammer as th\n",
    "\n",
    "def get_clean_th(x):\n",
    "    #x = str(x).lower().replace('\\\\', '').replace('_', ' ')\n",
    "    x = th.cont_exp(x)\n",
    "    x = th.remove_emails(x)\n",
    "    x = th.remove_urls(x)\n",
    "    x = th.remove_html_tags(x)\n",
    "    x = th.remove_rt(x)\n",
    "    x = th.remove_accented_chars(x)\n",
    "    x = th.remove_special_chars(x)\n",
    "    return x\n",
    "\n",
    "df_reduced['cleaner_th']=df_reduced['Review'].parallel_apply(get_clean_th)"
   ],
   "metadata": {
    "collapsed": false
   }
  },
  {
   "cell_type": "markdown",
   "source": [
    "##### Py text data clean\n",
    "---"
   ],
   "metadata": {
    "collapsed": false
   }
  },
  {
   "cell_type": "code",
   "execution_count": 5,
   "outputs": [
    {
     "name": "stdout",
     "output_type": "stream",
     "text": [
      "[nltk_data] Downloading package stopwords to\n",
      "[nltk_data]     /Users/diegoarcosdelasheras/nltk_data...\n",
      "[nltk_data]   Package stopwords is already up-to-date!\n"
     ]
    },
    {
     "name": "stderr",
     "output_type": "stream",
     "text": [
      "100%|██████████| 1/1 [00:00<00:00, 775.86it/s]\n",
      "100%|██████████| 1/1 [00:00<00:00, 319.49it/s]\n",
      "  0%|          | 0/1 [00:00<?, ?it/s]\n",
      "100%|██████████| 1/1 [00:00<00:00, 632.05it/s]\n",
      "100%|██████████| 1/1 [00:00<00:00, 1729.61it/s]\n",
      "  0%|          | 0/1 [00:00<?, ?it/s]7.99it/s]\n",
      "100%|██████████| 1/1 [00:00<00:00, 1210.48it/s]\n",
      "100%|██████████| 1/1 [00:00<00:00, 1288.57it/s]\n",
      "\n",
      "100%|██████████| 1/1 [00:00<00:00, 640.94it/s]\n",
      "/var/folders/cv/8ffbkz4x6fb9b6b1t27jgrtr0000gn/T/ipykernel_17982/2378331781.py:10: SettingWithCopyWarning: \n",
      "A value is trying to be set on a copy of a slice from a DataFrame.\n",
      "Try using .loc[row_indexer,col_indexer] = value instead\n",
      "\n",
      "See the caveats in the documentation: https://pandas.pydata.org/pandas-docs/stable/user_guide/indexing.html#returning-a-view-versus-a-copy\n",
      "  df_reduced['cleaner_pdc']=df_reduced['Review'].parallel_apply(cleaner_pdc)\n"
     ]
    }
   ],
   "source": [
    "# pip install py-text-data-clean\n",
    "# More information about it here: https://pypi.org/project/py-text-data-clean/\n",
    "\n",
    "from pytextdataclean import textclean as tc\n",
    "\n",
    "def cleaner_pdc(text):\n",
    "    result = tc.text_clean(data=[text])\n",
    "    return result\n",
    "\n",
    "df_reduced['cleaner_pdc']=df_reduced['Review'].parallel_apply(cleaner_pdc)"
   ],
   "metadata": {
    "collapsed": false
   }
  },
  {
   "cell_type": "markdown",
   "source": [
    "##### Tex cleaner\n",
    "---"
   ],
   "metadata": {
    "collapsed": false
   }
  },
  {
   "cell_type": "code",
   "execution_count": 6,
   "outputs": [],
   "source": [
    "# pip install text-cleaner-fdelgados\n",
    "# pip install text-cleaner-emagister\n",
    "# More information about it here: https://pypi.org/project/text-cleaner-emagister/#installation"
   ],
   "metadata": {
    "collapsed": false
   }
  },
  {
   "cell_type": "code",
   "execution_count": 7,
   "outputs": [
    {
     "name": "stderr",
     "output_type": "stream",
     "text": [
      "/var/folders/cv/8ffbkz4x6fb9b6b1t27jgrtr0000gn/T/ipykernel_17982/509807480.py:7: SettingWithCopyWarning: \n",
      "A value is trying to be set on a copy of a slice from a DataFrame.\n",
      "Try using .loc[row_indexer,col_indexer] = value instead\n",
      "\n",
      "See the caveats in the documentation: https://pandas.pydata.org/pandas-docs/stable/user_guide/indexing.html#returning-a-view-versus-a-copy\n",
      "  df_reduced['cleaner_tc']=df_reduced['Review'].parallel_apply(cleaner_tc)\n"
     ]
    }
   ],
   "source": [
    "from textcleaner import TextCleaner\n",
    "\n",
    "def cleaner_tc(text):\n",
    "    cleaner = TextCleaner()\n",
    "    return cleaner.clean(text)\n",
    "\n",
    "df_reduced['cleaner_tc']=df_reduced['Review'].parallel_apply(cleaner_tc)"
   ],
   "metadata": {
    "collapsed": false
   }
  },
  {
   "cell_type": "markdown",
   "source": [
    "##### Textify\n",
    "---"
   ],
   "metadata": {
    "collapsed": false
   }
  },
  {
   "cell_type": "code",
   "execution_count": 8,
   "outputs": [
    {
     "name": "stderr",
     "output_type": "stream",
     "text": [
      "/var/folders/cv/8ffbkz4x6fb9b6b1t27jgrtr0000gn/T/ipykernel_17982/3510435951.py:11: SettingWithCopyWarning: \n",
      "A value is trying to be set on a copy of a slice from a DataFrame.\n",
      "Try using .loc[row_indexer,col_indexer] = value instead\n",
      "\n",
      "See the caveats in the documentation: https://pandas.pydata.org/pandas-docs/stable/user_guide/indexing.html#returning-a-view-versus-a-copy\n",
      "  df_reduced['cleaner_tf']=df_reduced['Review'].parallel_apply(cleaner_tf)\n"
     ]
    }
   ],
   "source": [
    "# pip install textify\n",
    "# More information about it here: https://pypi.org/project/textify/\n",
    "\n",
    "from textify import TextCleaner\n",
    "\n",
    "def cleaner_tf(text):\n",
    "    doc = TextCleaner()\n",
    "    doc.text = text\n",
    "    return doc.clean_text()\n",
    "\n",
    "df_reduced['cleaner_tf']=df_reduced['Review'].parallel_apply(cleaner_tf)"
   ],
   "metadata": {
    "collapsed": false
   }
  },
  {
   "cell_type": "markdown",
   "source": [
    "## *COMPARISON*\n",
    "---"
   ],
   "metadata": {
    "collapsed": false
   }
  },
  {
   "cell_type": "code",
   "execution_count": 9,
   "outputs": [
    {
     "name": "stdout",
     "output_type": "stream",
     "text": [
      "%%%%%%%%%%% Clean text library %%%%%%%%%%%\n",
      "nice hotel expensive parking got good deal stay hotel anniversary arrived late evening took advice previous reviews did valet parking check quick easy little disappointed non existent view room room clean nice size bed comfortable woke stiff neck high pillows not soundproof like heard music room night morning loud bangs doors opening closing hear people talking hallway maybe just noisy neighbors aveda bath products nice did not goldfish stay nice touch taken advantage staying longer location great walking distance shopping overall nice experience having pay 40 parking night\n",
      "\n",
      "\n",
      "----Original---------\n",
      "nice hotel expensive parking got good deal stay hotel anniversary, arrived late evening took advice previous reviews did valet parking, check quick easy, little disappointed non-existent view room room clean nice size, bed comfortable woke stiff neck high pillows, not soundproof like heard music room night morning loud bangs doors opening closing hear people talking hallway, maybe just noisy neighbors, aveda bath products nice, did not goldfish stay nice touch taken advantage staying longer, location great walking distance shopping, overall nice experience having pay 40 parking night,  \n",
      "*************************************************\n",
      "\n",
      "%%%%%%%%%%% Text Hammer library %%%%%%%%%%%\n",
      "nice hotel expensive parking got good deal stay hotel anniversary arrived late evening took advice previous reviews did valet parking check quick easy little disappointed nonexistent view room room clean nice size bed comfortable woke stiff neck high pillows not soundproof like heard music room night morning loud bangs doors opening closing hear people talking hallway maybe just noisy neighbors aveda bath products nice did not goldfish stay nice touch taken advantage staying longer location great walking distance shopping overall nice experience having pay 40 parking night\n",
      "\n",
      "\n",
      "----Original---------\n",
      "nice hotel expensive parking got good deal stay hotel anniversary, arrived late evening took advice previous reviews did valet parking, check quick easy, little disappointed non-existent view room room clean nice size, bed comfortable woke stiff neck high pillows, not soundproof like heard music room night morning loud bangs doors opening closing hear people talking hallway, maybe just noisy neighbors, aveda bath products nice, did not goldfish stay nice touch taken advantage staying longer, location great walking distance shopping, overall nice experience having pay 40 parking night,  \n",
      "*************************************************\n",
      "\n",
      "%%%%%%%%%%% Py text data clean library %%%%%%%%%%%\n",
      "['nice hotel expensive parking got good deal stay hotel anniversary arrived late evening took advice previous reviews valet parking check quick easy little disappointed non existent view room room clean nice size bed comfortable woke stiff neck high pillows soundproof like heard music room night morning loud bangs doors opening closing hear people talking hallway maybe noisy neighbors aveda bath products nice goldfish stay nice touch taken advantage staying longer location great walking distance shopping overall nice experience pay parking night']\n",
      "\n",
      "\n",
      "----Original---------\n",
      "nice hotel expensive parking got good deal stay hotel anniversary, arrived late evening took advice previous reviews did valet parking, check quick easy, little disappointed non-existent view room room clean nice size, bed comfortable woke stiff neck high pillows, not soundproof like heard music room night morning loud bangs doors opening closing hear people talking hallway, maybe just noisy neighbors, aveda bath products nice, did not goldfish stay nice touch taken advantage staying longer, location great walking distance shopping, overall nice experience having pay 40 parking night,  \n",
      "*************************************************\n",
      "\n",
      "%%%%%%%%%%% Text Cleaner library %%%%%%%%%%%\n",
      "nice hotel expensive parking got good deal stay hotel anniversary arrived late evening took advice previous reviews did valet parking check quick easy little disappointed nonexistent view room room clean nice size bed comfortable woke stiff neck high pillows not soundproof like heard music room night morning loud bangs doors opening closing hear people talking hallway maybe just noisy neighbors aveda bath products nice did not goldfish stay nice touch taken advantage staying longer location great walking distance shopping overall nice experience having pay parking night\n",
      "\n",
      "\n",
      "----Original---------\n",
      "nice hotel expensive parking got good deal stay hotel anniversary, arrived late evening took advice previous reviews did valet parking, check quick easy, little disappointed non-existent view room room clean nice size, bed comfortable woke stiff neck high pillows, not soundproof like heard music room night morning loud bangs doors opening closing hear people talking hallway, maybe just noisy neighbors, aveda bath products nice, did not goldfish stay nice touch taken advantage staying longer, location great walking distance shopping, overall nice experience having pay 40 parking night,  \n",
      "*************************************************\n",
      "\n",
      "%%%%%%%%% Textify library %%%%%%%%%%%\n",
      "nice hotel expensive parking got good deal stay hotel anniversary arrived late evening took advice previous reviews did valet parking check quick easy little disappointed nonexistent view room room clean nice size bed comfortable woke stiff neck high pillows not soundproof like heard music room night morning loud bangs doors opening closing hear people talking hallway maybe just noisy neighbors aveda bath products nice did not goldfish stay nice touch taken advantage staying longer location great walking distance shopping overall nice experience having pay  parking night  \n",
      "\n",
      "\n",
      "----Original---------\n",
      "nice hotel expensive parking got good deal stay hotel anniversary, arrived late evening took advice previous reviews did valet parking, check quick easy, little disappointed non-existent view room room clean nice size, bed comfortable woke stiff neck high pillows, not soundproof like heard music room night morning loud bangs doors opening closing hear people talking hallway, maybe just noisy neighbors, aveda bath products nice, did not goldfish stay nice touch taken advantage staying longer, location great walking distance shopping, overall nice experience having pay 40 parking night,  \n",
      "*************************************************\n",
      "\n"
     ]
    }
   ],
   "source": [
    "i = 1\n",
    "for index, row in df_reduced.iterrows():\n",
    "    while i<2:\n",
    "        print('%%%%%%%%%%% Clean text library %%%%%%%%%%%')\n",
    "        print(row['cleaner_ct'])\n",
    "        print('\\n')\n",
    "        print('----Original---------')\n",
    "        print(row['Review'])\n",
    "        print('*************************************************\\n')\n",
    "        print('%%%%%%%%%%% Text Hammer library %%%%%%%%%%%')\n",
    "        print(row['cleaner_th'])\n",
    "        print('\\n')\n",
    "        print('----Original---------')\n",
    "        print(row['Review'])\n",
    "        print('*************************************************\\n')\n",
    "        print('%%%%%%%%%%% Py text data clean library %%%%%%%%%%%')\n",
    "        print(row['cleaner_pdc'])\n",
    "        print('\\n')\n",
    "        print('----Original---------')\n",
    "        print(row['Review'])\n",
    "        print('*************************************************\\n')\n",
    "        print('%%%%%%%%%%% Text Cleaner library %%%%%%%%%%%')\n",
    "        print(row['cleaner_tc'])\n",
    "        print('\\n')\n",
    "        print('----Original---------')\n",
    "        print(row['Review'])\n",
    "        print('*************************************************\\n')\n",
    "        print('%%%%%%%%% Textify library %%%%%%%%%%%')\n",
    "        print(row['cleaner_tf'])\n",
    "        print('\\n')\n",
    "        print('----Original---------')\n",
    "        print(row['Review'])\n",
    "        print('*************************************************\\n')\n",
    "        i += 1"
   ],
   "metadata": {
    "collapsed": false
   }
  },
  {
   "cell_type": "code",
   "execution_count": 9,
   "outputs": [],
   "source": [
    "\n"
   ],
   "metadata": {
    "collapsed": false
   }
  },
  {
   "cell_type": "code",
   "execution_count": 9,
   "outputs": [],
   "source": [],
   "metadata": {
    "collapsed": false
   }
  },
  {
   "cell_type": "code",
   "execution_count": 9,
   "outputs": [],
   "source": [],
   "metadata": {
    "collapsed": false
   }
  },
  {
   "cell_type": "code",
   "execution_count": 9,
   "outputs": [],
   "source": [],
   "metadata": {
    "collapsed": false
   }
  },
  {
   "cell_type": "code",
   "execution_count": 9,
   "outputs": [],
   "source": [],
   "metadata": {
    "collapsed": false
   }
  },
  {
   "cell_type": "code",
   "execution_count": 9,
   "outputs": [],
   "source": [],
   "metadata": {
    "collapsed": false
   }
  },
  {
   "cell_type": "code",
   "execution_count": 9,
   "outputs": [],
   "source": [],
   "metadata": {
    "collapsed": false
   }
  },
  {
   "cell_type": "code",
   "execution_count": 9,
   "outputs": [],
   "source": [],
   "metadata": {
    "collapsed": false
   }
  },
  {
   "cell_type": "code",
   "execution_count": 9,
   "outputs": [],
   "source": [],
   "metadata": {
    "collapsed": false
   }
  }
 ],
 "metadata": {
  "kernelspec": {
   "display_name": "Python 3",
   "language": "python",
   "name": "python3"
  },
  "language_info": {
   "codemirror_mode": {
    "name": "ipython",
    "version": 2
   },
   "file_extension": ".py",
   "mimetype": "text/x-python",
   "name": "python",
   "nbconvert_exporter": "python",
   "pygments_lexer": "ipython2",
   "version": "2.7.6"
  }
 },
 "nbformat": 4,
 "nbformat_minor": 0
}
